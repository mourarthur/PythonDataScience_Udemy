{
 "cells": [
  {
   "cell_type": "markdown",
   "metadata": {},
   "source": [
    "# Bem-vindo ao Curso\n",
    "\n",
    "Este é a pasta do curso: ** Python para Data Science e Machine Learning **\n",
    "\n",
    "Muito obrigado por se inscrever no curso!\n",
    "\n",
    "## Visão geral desta pasta\n",
    "\n",
    "Esta pasta contém tudo o que você precisa para o curso, possui todos os cadernos, links, etc."
   ]
  }
 ],
 "metadata": {
  "kernelspec": {
   "display_name": "Python 3",
   "language": "python",
   "name": "python3"
  },
  "language_info": {
   "codemirror_mode": {
    "name": "ipython",
    "version": 3
   },
   "file_extension": ".py",
   "mimetype": "text/x-python",
   "name": "python",
   "nbconvert_exporter": "python",
   "pygments_lexer": "ipython3",
   "version": "3.6.1"
  }
 },
 "nbformat": 4,
 "nbformat_minor": 1
}
